{
 "cells": [
  {
   "cell_type": "code",
   "execution_count": 1,
   "metadata": {},
   "outputs": [],
   "source": [
    "import pandas as pd\n",
    "import numpy as np\n",
    "import matplotlib.pyplot as plt\n",
    "from sklearn.model_selection import train_test_split \n",
    "from sklearn.linear_model import LinearRegression\n",
    "import seaborn as sns\n",
    "from sklearn.metrics import mean_squared_error\n",
    "from sklearn.metrics import mean_absolute_error\n",
    "from sklearn.metrics import r2_score\n",
    "from sklearn.preprocessing import PolynomialFeatures\n"
   ]
  },
  {
   "cell_type": "code",
   "execution_count": 2,
   "metadata": {},
   "outputs": [
    {
     "data": {
      "text/plain": [
       "id              -0.016762\n",
       "price            1.000000\n",
       "bedrooms         0.308350\n",
       "bathrooms        0.525138\n",
       "sqft_living      0.702035\n",
       "sqft_lot         0.089661\n",
       "floors           0.256794\n",
       "waterfront       0.266369\n",
       "view             0.397293\n",
       "condition        0.036362\n",
       "grade            0.667434\n",
       "sqft_above       0.605567\n",
       "sqft_basement    0.323816\n",
       "yr_built         0.054012\n",
       "yr_renovated     0.126434\n",
       "zipcode         -0.053203\n",
       "lat              0.307003\n",
       "long             0.021626\n",
       "sqft_living15    0.585379\n",
       "sqft_lot15       0.082447\n",
       "Name: price, dtype: float64"
      ]
     },
     "execution_count": 2,
     "metadata": {},
     "output_type": "execute_result"
    }
   ],
   "source": [
    "df=pd.read_csv(\"house.csv\")\n",
    "df.head()\n",
    "df.corr()['price']"
   ]
  },
  {
   "cell_type": "code",
   "execution_count": 30,
   "metadata": {},
   "outputs": [],
   "source": [
    "x=df[['sqft_living']]\n",
    "y=df['price']"
   ]
  },
  {
   "cell_type": "code",
   "execution_count": 31,
   "metadata": {},
   "outputs": [],
   "source": [
    "lr=LinearRegression()"
   ]
  },
  {
   "cell_type": "code",
   "execution_count": 32,
   "metadata": {},
   "outputs": [],
   "source": [
    "x_train, x_test, y_train, y_test = train_test_split(x, y, test_size=0.3,random_state=1)\n",
    "lr.fit(x_train,y_train)\n",
    "lrcoeff=lr.coef_\n",
    "lr.score(x_test,y_test)\n",
    "ypred=lr.predict(x_test)"
   ]
  },
  {
   "cell_type": "code",
   "execution_count": 34,
   "metadata": {},
   "outputs": [
    {
     "data": {
      "text/plain": [
       "0.5030774643470591"
      ]
     },
     "execution_count": 34,
     "metadata": {},
     "output_type": "execute_result"
    }
   ],
   "source": [
    "r2_score(y_test,ypred)"
   ]
  },
  {
   "cell_type": "code",
   "execution_count": 30,
   "metadata": {},
   "outputs": [],
   "source": [
    "pf=PolynomialFeatures(3)"
   ]
  },
  {
   "cell_type": "code",
   "execution_count": 31,
   "metadata": {},
   "outputs": [],
   "source": [
    "x_poly=pf.fit_transform(x)"
   ]
  },
  {
   "cell_type": "code",
   "execution_count": 35,
   "metadata": {},
   "outputs": [],
   "source": [
    "x_train, x_test, y_train, y_test = train_test_split(x_poly, y, test_size=0.3,random_state=1)\n",
    "lr.fit(x_train,y_train)\n",
    "lrcoeff=lr.coef_\n",
    "lr.score(x_test,y_test)\n",
    "ypred=lr.predict(x_test)"
   ]
  },
  {
   "cell_type": "code",
   "execution_count": 33,
   "metadata": {},
   "outputs": [
    {
     "data": {
      "text/plain": [
       "0.5401886537626621"
      ]
     },
     "execution_count": 33,
     "metadata": {},
     "output_type": "execute_result"
    }
   ],
   "source": [
    "r2_score(ytest,ypred)"
   ]
  },
  {
   "cell_type": "code",
   "execution_count": 42,
   "metadata": {},
   "outputs": [
    {
     "name": "stdout",
     "output_type": "stream",
     "text": [
      "for 0 th iteration -0.0004076018354877142\n",
      "for 1 th iteration 0.5036600219422225\n",
      "for 2 th iteration 0.5335883908330629\n",
      "for 3 th iteration 0.5640337838782349\n",
      "for 4 th iteration 0.2243107274739844\n",
      "for 5 th iteration -1.6586485088411824\n",
      "for 6 th iteration -4.7349476643842925\n",
      "for 7 th iteration -106.36894839942364\n",
      "for 8 th iteration -6193.856207856098\n",
      "for 9 th iteration -117683.74394095626\n"
     ]
    }
   ],
   "source": [
    "for i in range(10):\n",
    "    pf=PolynomialFeatures(i)\n",
    "    x_poly=pf.fit_transform(x)\n",
    "    x_train, x_test, y_train, y_test = train_test_split(x_poly, y, test_size=0.3,random_state=1)\n",
    "    lr.fit(x_train,y_train)\n",
    "    lrcoeff=lr.coef_\n",
    "    lr.score(x_test,y_test)\n",
    "    ypred=lr.predict(x_test)\n",
    "    r2=r2_score(ytest,ypred)\n",
    "    print('for',i,'th iteration',r2)"
   ]
  },
  {
   "cell_type": "code",
   "execution_count": 46,
   "metadata": {},
   "outputs": [
    {
     "name": "stdout",
     "output_type": "stream",
     "text": [
      "for 0 th iteration -0.0004076018354877142\n",
      "for 1 th iteration 0.545341811002674\n",
      "for 2 th iteration 0.6315684108254053\n",
      "for 3 th iteration 0.6369558096117698\n",
      "for 4 th iteration 0.08438909214162871\n",
      "for 5 th iteration -6.551038529659889\n",
      "for 6 th iteration -117.71042815640251\n",
      "for 7 th iteration -1068.6915807042972\n",
      "for 8 th iteration -20418.871987375693\n",
      "for 9 th iteration -866520.2660131545\n"
     ]
    }
   ],
   "source": [
    "for i in range(10):\n",
    "    pf=PolynomialFeatures(i)\n",
    "    x_poly=pf.fit_transform(x)\n",
    "    x_train, x_test, y_train, y_test = train_test_split(x_poly, y, test_size=0.3,random_state=1)\n",
    "    lr.fit(x_train,y_train)\n",
    "    lrcoeff=lr.coef_\n",
    "    lr.score(x_test,y_test)\n",
    "    ypred=lr.predict(x_test)\n",
    "    r2=r2_score(y_test,ypred)\n",
    "    print('for',i,'th iteration',r2)"
   ]
  },
  {
   "cell_type": "code",
   "execution_count": 5,
   "metadata": {},
   "outputs": [
    {
     "name": "stdout",
     "output_type": "stream",
     "text": [
      "for 0 th iteration -0.0004076018354877142\n",
      "for 1 th iteration 0.5805562158695727\n",
      "for 2 th iteration 0.6556664868495445\n",
      "for 3 th iteration 0.6549166869949739\n",
      "for 4 th iteration -1.3165764312882917\n"
     ]
    }
   ],
   "source": [
    "x=df[['sqft_living','sqft_above','grade','floors','view']]\n",
    "y=df['price']\n",
    "for i in range(5):\n",
    "    pf=PolynomialFeatures(i)\n",
    "    x_poly=pf.fit_transform(x)\n",
    "    x_train, x_test, y_train, y_test = train_test_split(x_poly, y, test_size=0.3,random_state=1)\n",
    "    lr.fit(x_train,y_train)\n",
    "    lrcoeff=lr.coef_\n",
    "    lr.score(x_test,y_test)\n",
    "    ypred=lr.predict(x_test)\n",
    "    r2=r2_score(y_test,ypred)\n",
    "    print('for',i,'th iteration',r2)"
   ]
  },
  {
   "cell_type": "code",
   "execution_count": 36,
   "metadata": {},
   "outputs": [
    {
     "data": {
      "text/plain": [
       "0.5401886537626621"
      ]
     },
     "execution_count": 36,
     "metadata": {},
     "output_type": "execute_result"
    }
   ],
   "source": [
    "pf=PolynomialFeatures(3)\n",
    "x_poly=pf.fit_transform(x)\n",
    "X_train, X_test_poly, y_train, y_test = train_test_split(x_poly, y, test_size=0.3,random_state=1)\n",
    "lr.fit(X_train,y_train)\n",
    "lrcoeff=lr.coef_\n",
    "lr.score(X_test_poly,y_test)\n",
    "ypred=lr.predict(X_test_poly)\n",
    "r2_score(y_test,ypred)"
   ]
  },
  {
   "cell_type": "code",
   "execution_count": 38,
   "metadata": {},
   "outputs": [
    {
     "data": {
      "image/png": "[encoded data removed]",
      "text/plain": [
       "<Figure size 432x288 with 1 Axes>"
      ]
     },
     "metadata": {
      "needs_background": "light"
     },
     "output_type": "display_data"
    }
   ],
   "source": [
    "plt.figure()\n",
    "plt.scatter(x,y)\n",
    "plt.scatter(x_test,ypred,color='red')\n",
    "plt.show()"
   ]
  },
  {
   "cell_type": "code",
   "execution_count": null,
   "metadata": {},
   "outputs": [],
   "source": []
  }
 ],
 "metadata": {
  "kernelspec": {
   "display_name": "Python 3",
   "language": "python",
   "name": "python3"
  },
  "language_info": {
   "codemirror_mode": {
    "name": "ipython",
    "version": 3
   },
   "file_extension": ".py",
   "mimetype": "text/x-python",
   "name": "python",
   "nbconvert_exporter": "python",
   "pygments_lexer": "ipython3",
   "version": "3.7.3"
  }
 },
 "nbformat": 4,
 "nbformat_minor": 2
}
