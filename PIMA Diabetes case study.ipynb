{
 "cells": [
  {
   "cell_type": "markdown",
   "metadata": {},
   "source": [
    "# Pima Diabetes dataset Case Study \n",
    " \n",
    "     In the dataset all the data is about the females at least 21 years old of Pima Indian heritage. ADAP is an adaptive learning routine that generates and executes digital analogy of perceptron-like devices\n",
    "     \n",
    "# The team identifies the following customer variables to study:\n",
    "  \n",
    "   1. Number of times pregnant \n",
    "   2. Plasma glucose concentration a 2 hours in an oral glucose tolerance test \n",
    "   3. Diastolic blood pressure (mm Hg) \n",
    "   4. Triceps skin fold thickness (mm) \n",
    "   5. 2Hour serum insulin (mu U/ml) \n",
    "   6. Body mass index (weight in kg/(height in m)^2) \n",
    "   7. Diabetes pedigree function \n",
    "   8. Age (years) \n",
    "   9. Class variable (0 or 1) ** \n",
    "\n",
    "   "
   ]
  }
 ],
 "metadata": {
  "kernelspec": {
   "display_name": "Python 3",
   "language": "python",
   "name": "python3"
  },
  "language_info": {
   "codemirror_mode": {
    "name": "ipython",
    "version": 3
   },
   "file_extension": ".py",
   "mimetype": "text/x-python",
   "name": "python",
   "nbconvert_exporter": "python",
   "pygments_lexer": "ipython3",
   "version": "3.6.4"
  }
 },
 "nbformat": 4,
 "nbformat_minor": 2
}
